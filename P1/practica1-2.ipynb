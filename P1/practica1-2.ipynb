{
 "cells": [
  {
   "cell_type": "markdown",
   "metadata": {},
   "source": [
    "Ejercicio 1\n",
    "Escriba un programa que genere una tabla de multiplicar y realice las siguientes\n",
    "operaciones:\n",
    "• Imprimir la tabla de multiplicar para los números del 1 al 5.\n",
    "• Utilice continue para omitir la multiplicación de los números pares.\n",
    "• Utilice break para detener la tabla si el producto supera 20.\n",
    "• Utilice pass dentro del bucle para ilustrar su uso sin afectar la lógica."
   ]
  },
  {
   "cell_type": "code",
   "execution_count": 3,
   "metadata": {},
   "outputs": [
    {
     "name": "stdout",
     "output_type": "stream",
     "text": [
      "1 x 1 = 1\n",
      "1 x 2 = 2\n",
      "1 x 3 = 3\n",
      "1 x 4 = 4\n",
      "1 x 5 = 5\n",
      "1 x 6 = 6\n",
      "1 x 7 = 7\n",
      "1 x 8 = 8\n",
      "1 x 9 = 9\n",
      "3 x 1 = 3\n",
      "3 x 2 = 6\n",
      "3 x 3 = 9\n",
      "3 x 4 = 12\n",
      "3 x 5 = 15\n",
      "3 x 6 = 18\n",
      "5 x 1 = 5\n",
      "5 x 2 = 10\n",
      "5 x 3 = 15\n",
      "5 x 4 = 20\n"
     ]
    }
   ],
   "source": [
    "for i in range(1, 6):\n",
    "    for j in range(1,10):\n",
    "        c=i*j\n",
    "        if (i%2==0):\n",
    "            continue\n",
    "        if(c>20):\n",
    "            break\n",
    "        pass\n",
    "        print(i ,\"x\", j, \"=\", c)\n",
    "\n"
   ]
  },
  {
   "cell_type": "markdown",
   "metadata": {},
   "source": [
    "Ejercicio 2\n",
    "Escriba una función llamada process_text() que recibe una cadena de texto y una\n",
    "lista de palabras a remplazar. Esta función deberá:\n",
    "• Proporcionar valores predeterminados para la cadena de texto y la lista de\n",
    "palabras que se reemplazarán.\n",
    "• Convertir la cadena a minúsculas.\n",
    "• Eliminar los espacios en blanco iniciales y finales.\n",
    "• Reemplazar con asteriscos (*) cualquier palabra de la cadena de texto que\n",
    "coincida con un elemento de la lista de palabras.\n",
    "• Devolver la cadena procesada y la cantidad de palabras reemplazadas.\n",
    "Llame a process_text() desde una función principal."
   ]
  },
  {
   "cell_type": "code",
   "execution_count": 30,
   "metadata": {},
   "outputs": [
    {
     "name": "stdout",
     "output_type": "stream",
     "text": [
      "texto remplazado= **** es el texto 1 de ******** **** ****\n",
      "numero de palabras remplazadas = 4\n"
     ]
    }
   ],
   "source": [
    "def procces_text(texto=\"Hola, buenas tardes\", lista=[\"tardes\"]):\n",
    "    \"\"\"Esta funcion recibe una cadena y una lista, convierte la cadena en \n",
    "    minusculas,elimina los espacios iniciales y finales y remplaza por *\n",
    "    las palabras de la cadena que coincidan con los elementos de la lista\n",
    "    \"\"\"\n",
    "    texto= texto.lower()\n",
    "    texto= texto.strip()\n",
    "    remplazo=0\n",
    "    for palabra in lista:\n",
    "        while palabra in texto:\n",
    "            texto=texto.replace(palabra,'*' * len(palabra),1)\n",
    "            remplazo+=1\n",
    "    return texto, remplazo\n",
    "texto1= \"          este es el texto 1 de palabras este este\"\n",
    "lista1=[\"este\",\"palabras\"]\n",
    "t,r=procces_text(texto1,lista1)\n",
    "\n",
    "print(\"texto remplazado=\",t)\n",
    "print(\"numero de palabras remplazadas =\",r)\n",
    "\n",
    "\n"
   ]
  },
  {
   "cell_type": "markdown",
   "metadata": {},
   "source": [
    "Ejercicio 3\n",
    "Escriba un programa que realice un análisis de números primos. Debe incluir las\n",
    "siguientes funciones (que deberán estar documentadas):\n",
    "1. is_prime(n): comprueba si un número n es primo.\n",
    "2. prime_list(limit): genera una lista de números primos hasta un límite limit.\n",
    "3. check_palindrome(primes): busca palíndromos en una lista de números\n",
    "primos (se leen igual de adelante hacia atrás).\n",
    "4. categorize_prime(prime): clasifica los números primos en \"pequeños\"\n",
    "(menores que 10), \"medianos\" (de 10 a 99) o \"grandes\" (100 o más).\n",
    "La función main() se utiliza para probar las funciones del programa. Puedes probar\n",
    "con diferentes números y límites.\n"
   ]
  },
  {
   "cell_type": "code",
   "execution_count": null,
   "metadata": {},
   "outputs": [],
   "source": []
  }
 ],
 "metadata": {
  "kernelspec": {
   "display_name": "Python 3",
   "language": "python",
   "name": "python3"
  },
  "language_info": {
   "codemirror_mode": {
    "name": "ipython",
    "version": 3
   },
   "file_extension": ".py",
   "mimetype": "text/x-python",
   "name": "python",
   "nbconvert_exporter": "python",
   "pygments_lexer": "ipython3",
   "version": "3.12.6"
  }
 },
 "nbformat": 4,
 "nbformat_minor": 2
}
